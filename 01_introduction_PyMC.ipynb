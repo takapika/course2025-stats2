{
  "nbformat": 4,
  "nbformat_minor": 0,
  "metadata": {
    "colab": {
      "provenance": [],
      "authorship_tag": "ABX9TyPVBTahynAA2tu2kjqd5PkR",
      "include_colab_link": true
    },
    "kernelspec": {
      "name": "python3",
      "display_name": "Python 3"
    }
  },
  "cells": [
    {
      "cell_type": "markdown",
      "metadata": {
        "id": "view-in-github",
        "colab_type": "text"
      },
      "source": [
        "<a href=\"https://colab.research.google.com/github/tomonari-masada/course2025-stats2/blob/main/01_introduction_PyMC.ipynb\" target=\"_parent\"><img src=\"https://colab.research.google.com/assets/colab-badge.svg\" alt=\"Open In Colab\"/></a>"
      ]
    },
    {
      "cell_type": "markdown",
      "metadata": {
        "id": "D1eheKi2JthC"
      },
      "source": [
        "## 第1回授業の例題にPyMCを使う"
      ]
    },
    {
      "cell_type": "markdown",
      "metadata": {
        "id": "vxo7kpGHHy1W"
      },
      "source": [
        "### 例題：メッセージ数に変化はあるか？（参考書より）\n",
        "* **参考書**： キャメロン・デビッドソン=ピロン(著), 玉木徹(訳)『Pythonで体験するベイズ推論:PyMCによるMCMC入門』, 森北出版 (2017)\n",
        " * https://www.amazon.co.jp/dp/4627077912"
      ]
    },
    {
      "cell_type": "code",
      "metadata": {
        "id": "B9a8wWzdHXcB"
      },
      "source": [
        "!wget \"https://raw.githubusercontent.com/CamDavidsonPilon/Probabilistic-Programming-and-Bayesian-Methods-for-Hackers/master/Chapter1_Introduction/data/txtdata.csv\""
      ],
      "execution_count": null,
      "outputs": []
    },
    {
      "cell_type": "code",
      "metadata": {
        "id": "0lFo_KTFHOML"
      },
      "source": [
        "import numpy as np\n",
        "import matplotlib.pyplot as plt\n",
        "\n",
        "PATH = 'txtdata.csv'\n",
        "\n",
        "plt.figure(figsize=(12.5, 4))\n",
        "\n",
        "count_data = np.loadtxt(PATH)\n",
        "n_count_data = len(count_data)\n",
        "plt.bar(np.arange(n_count_data), count_data, color=\"#348ABD\")\n",
        "plt.xlabel(\"Time (days)\")\n",
        "plt.ylabel(\"count of text-msgs received\")\n",
        "plt.title(\"Did the user's texting habits change over time?\")\n",
        "plt.xlim(0, n_count_data);"
      ],
      "execution_count": null,
      "outputs": []
    },
    {
      "cell_type": "markdown",
      "metadata": {
        "id": "CJ3C58aPIv4D"
      },
      "source": [
        "$$ X_t \\sim \\text{Poi}(\\lambda_1) \\; \\; \\text{ if $t < \\tau$ } $$\n",
        "$$ X_t \\sim \\text{Poi}(\\lambda_2) \\; \\; \\text{ if $t \\geq \\tau$ } $$"
      ]
    },
    {
      "cell_type": "markdown",
      "metadata": {
        "id": "g2gJR2LDKn0b"
      },
      "source": [
        "$$ \\lambda_1 \\sim \\text{Exp}(\\alpha) $$\n",
        "$$ \\lambda_2 \\sim \\text{Exp}(\\alpha) $$\n"
      ]
    },
    {
      "cell_type": "markdown",
      "metadata": {
        "id": "cbphnQC3LhLi"
      },
      "source": [
        "$$ P(\\tau = k) = \\frac{1}{N} \\;\\; \\text{ for $k = 1,\\ldots, N$ } $$"
      ]
    },
    {
      "cell_type": "code",
      "source": [
        "import numpy as np\n",
        "import pymc as pm\n",
        "import arviz as az\n",
        "\n",
        "RANDOM_SEED = 8927\n",
        "rng = np.random.default_rng(RANDOM_SEED)\n",
        "az.style.use(\"arviz-darkgrid\")"
      ],
      "metadata": {
        "id": "rBcIDDt1s0Bj"
      },
      "execution_count": null,
      "outputs": []
    },
    {
      "cell_type": "code",
      "source": [
        "with pm.Model() as model:\n",
        "  n_data = len(count_data)\n",
        "\n",
        "  alpha = 1.0 / count_data.mean() # 受信数の平均の逆数（なぜこのように設定するかについては参考書を参照）\n",
        "  lambda_1 = pm.Exponential(\"lambda_1\", lam=alpha)\n",
        "  lambda_2 = pm.Exponential(\"lambda_2\", lam=alpha)\n",
        "\n",
        "  tau = pm.Uniform(\"tau\", lower=0, upper=n_data)\n",
        "\n",
        "  idx = np.arange(n_data)\n",
        "  lambda_ = pm.Deterministic(\"lambda_\", pm.math.where(tau > idx, lambda_1, lambda_2))\n",
        "  obs = pm.Poisson(\"obs\", mu=lambda_, observed=count_data)"
      ],
      "metadata": {
        "id": "x79oFp8ItM-Z"
      },
      "execution_count": null,
      "outputs": []
    },
    {
      "cell_type": "code",
      "source": [
        "pm.model_to_graphviz(model)"
      ],
      "metadata": {
        "id": "KQPx75EnxE10"
      },
      "execution_count": null,
      "outputs": []
    },
    {
      "cell_type": "code",
      "source": [
        "with model:\n",
        "  idata = pm.sample(draws=1000, tunes=1000, chains=2, cores=2, random_seed=rng)"
      ],
      "metadata": {
        "id": "66zT59VkAmDt"
      },
      "execution_count": null,
      "outputs": []
    },
    {
      "cell_type": "code",
      "source": [
        "az.plot_trace(idata);"
      ],
      "metadata": {
        "id": "lNdQl6Lh1dqL"
      },
      "execution_count": null,
      "outputs": []
    },
    {
      "cell_type": "code",
      "source": [
        "var_names = [\"lambda_1\", \"lambda_2\", \"tau\"]\n",
        "az.plot_trace(idata, var_names=var_names);"
      ],
      "metadata": {
        "id": "YrjABBVoPjFE"
      },
      "execution_count": null,
      "outputs": []
    },
    {
      "cell_type": "code",
      "source": [
        "az.summary(idata, var_names=var_names)"
      ],
      "metadata": {
        "id": "216nYx_eSAyM"
      },
      "execution_count": null,
      "outputs": []
    },
    {
      "cell_type": "code",
      "source": [],
      "metadata": {
        "id": "2QyztlxaCtn-"
      },
      "execution_count": null,
      "outputs": []
    }
  ]
}